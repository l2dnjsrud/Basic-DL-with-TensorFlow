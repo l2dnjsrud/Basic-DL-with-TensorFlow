{
 "cells": [
  {
   "cell_type": "markdown",
   "metadata": {},
   "source": [
    "# Lab 09 XOR - Deep Neural Network - Eager\n",
    "* XOR 문제를 Deep Neural Network 활용해 풀어보도록 하겠습니다.\n",
    "\n",
    "### 기본 Library 선언 및 Tensorflow 버전 확인"
   ]
  },
  {
   "cell_type": "code",
   "execution_count": 1,
   "metadata": {
    "scrolled": true
   },
   "outputs": [
    {
     "name": "stdout",
     "output_type": "stream",
     "text": [
      "1.12.0\n"
     ]
    }
   ],
   "source": [
    "import numpy as np\n",
    "import matplotlib.pyplot as plt\n",
    "%matplotlib inline\n",
    "import tensorflow as tf\n",
    "import tensorflow.contrib.eager as tfe\n",
    "\n",
    "tf.enable_eager_execution()\n",
    "tf.set_random_seed(777)  # for reproducibility\n",
    "\n",
    "print(tf.__version__)"
   ]
  },
  {
   "cell_type": "markdown",
   "metadata": {},
   "source": [
    "### 강의에 설명할 Data입니다\n",
    "* x_data가 2차원 배열이기에 2차원 공간에 표현하여 x1과 x2를 기준으로 y_data 0과 1로 구분하는 예제입니다\n",
    "* 붉은색과 푸른색으로 0과 1을 표시해 보도록 하겠습니다."
   ]
  },
  {
   "cell_type": "code",
   "execution_count": 2,
   "metadata": {
    "scrolled": true
   },
   "outputs": [
    {
     "data": {
      "image/png": "[encoded data removed]",
      "text/plain": [
       "<Figure size 432x288 with 1 Axes>"
      ]
     },
     "metadata": {
      "needs_background": "light"
     },
     "output_type": "display_data"
    }
   ],
   "source": [
    "x_data = [[0, 0],\n",
    "          [0, 1],\n",
    "          [1, 0],\n",
    "          [1, 1]]\n",
    "y_data = [[0],\n",
    "          [1],\n",
    "          [1],\n",
    "          [0]]\n",
    "\n",
    "plt.scatter(x_data[0][0],x_data[0][1], c='red' , marker='^')\n",
    "plt.scatter(x_data[3][0],x_data[3][1], c='red' , marker='^')\n",
    "plt.scatter(x_data[1][0],x_data[1][1], c='blue' , marker='^')\n",
    "plt.scatter(x_data[2][0],x_data[2][1], c='blue' , marker='^')\n",
    "\n",
    "plt.xlabel(\"x1\")\n",
    "plt.ylabel(\"x2\")\n",
    "plt.show()"
   ]
  },
  {
   "cell_type": "markdown",
   "metadata": {},
   "source": [
    "##  Tensorflow Eager\n",
    "### 위 Data를 기준으로 XOR처리를 위한 모델을 만들도록 하겠습니다\n",
    "* Tensorflow data API를 통해 학습시킬 값들을 담는다 (Batch Size는 한번에 학습시킬 Size로 정한다)\n",
    "* features,labels는 실재 학습에 쓰일 Data (연산을 위해 Type를 맞춰준다)"
   ]
  },
  {
   "cell_type": "code",
   "execution_count": 3,
   "metadata": {},
   "outputs": [],
   "source": [
    "dataset = tf.data.Dataset.from_tensor_slices((x_data, y_data)).batch(len(x_data))\n",
    "nb_classes = 10\n",
    "\n",
    "class wide_deep_nn():\n",
    "    def __init__(self, nb_classes):\n",
    "        super(wide_deep_nn, self).__init__()\n",
    "        self.W = tf.Variable(tf.random_normal([4, nb_classes]), name='weight')\n",
    "        self.b = tf.Variable(tf.random_normal([nb_classes]), name='bias')\n",
    "     \n",
    "        self.W1 = tf.Variable(tf.random_normal([2, nb_classes]), name='weight1')\n",
    "        self.b1 = tf.Variable(tf.random_normal([nb_classes]), name='bias1')\n",
    "\n",
    "        self.W2 = tf.Variable(tf.random_normal([nb_classes, nb_classes]), name='weight2')\n",
    "        self.b2 = tf.Variable(tf.random_normal([nb_classes]), name='bias2')\n",
    "\n",
    "        self.W3 = tf.Variable(tf.random_normal([nb_classes, nb_classes]), name='weight3')\n",
    "        self.b3 = tf.Variable(tf.random_normal([nb_classes]), name='bias3')\n",
    "\n",
    "        self.W4 = tf.Variable(tf.random_normal([nb_classes, 1]), name='weight4')\n",
    "        self.b4 = tf.Variable(tf.random_normal([1]), name='bias4')\n",
    "        self.variables = [self.W,self.b,self.W1,self.b1,self.W2,self.b2,self.W3,self.b3,self.W4,self.b4]\n",
    "        \n",
    "    def preprocess_data(self, features, labels):\n",
    "        features = tf.cast(features, tf.float32)\n",
    "        labels = tf.cast(labels, tf.float32)\n",
    "        return features, labels\n",
    "        \n",
    "    def deep_nn(self, features):\n",
    "        layer1 = tf.sigmoid(tf.matmul(features, self.W1) + self.b1)\n",
    "        layer2 = tf.sigmoid(tf.matmul(layer1, self.W2) + self.b2)\n",
    "        layer3 = tf.sigmoid(tf.matmul(layer2, self.W3) + self.b3)\n",
    "        hypothesis = tf.sigmoid(tf.matmul(layer3, self.W4) + self.b4)\n",
    "        return hypothesis\n",
    "    \n",
    "    def loss_fn(self, hypothesis, features, labels):\n",
    "        cost = -tf.reduce_mean(labels * tf.log(hypothesis) + (1 - labels) * tf.log(1 - hypothesis))\n",
    "        return cost\n",
    "\n",
    "    def accuracy_fn(self, hypothesis, labels):\n",
    "        predicted = tf.cast(hypothesis > 0.5, dtype=tf.float32)\n",
    "        accuracy = tf.reduce_mean(tf.cast(tf.equal(predicted, labels), dtype=tf.float32))\n",
    "        return accuracy\n",
    "\n",
    "    def grad(self, hypothesis, features, labels):\n",
    "        with tf.GradientTape() as tape:\n",
    "            loss_value = self.loss_fn(self.deep_nn(features),features,labels)\n",
    "        return tape.gradient(loss_value,self.variables)\n",
    "    \n",
    "    def fit(self, dataset, EPOCHS=20000, verbose=500):\n",
    "        optimizer =  tf.train.GradientDescentOptimizer(learning_rate=0.01)\n",
    "        for step in range(EPOCHS):\n",
    "            for features, labels  in tfe.Iterator(dataset):\n",
    "                features, labels = self.preprocess_data(features, labels)\n",
    "                grads = self.grad(self.deep_nn(features), features, labels)\n",
    "                optimizer.apply_gradients(grads_and_vars=zip(grads, self.variables))\n",
    "                if step % verbose == 0:\n",
    "                    print(\"Iter: {}, Loss: {:.4f}\".format(step, self.loss_fn(self.deep_nn(features),features,labels)))\n",
    "\n",
    "    def test_model(self,x_data, y_data):\n",
    "        x_data, y_data = self.preprocess_data(x_data, y_data)\n",
    "        test_acc = self.accuracy_fn(self.deep_nn(x_data),y_data)\n",
    "        print(\"Testset Accuracy: {:.4f}\".format(test_acc))"
   ]
  },
  {
   "cell_type": "markdown",
   "metadata": {},
   "source": [
    "Deep Neural Network를 통해 XOR해결 \n",
    "* 위의 Data를 4Layer의 Neural Network를 통해 학습시킨 후 모델을 생성합니다. "
   ]
  },
  {
   "cell_type": "code",
   "execution_count": 4,
   "metadata": {},
   "outputs": [],
   "source": [
    "model = wide_deep_nn(nb_classes)"
   ]
  },
  {
   "cell_type": "code",
   "execution_count": 5,
   "metadata": {},
   "outputs": [
    {
     "name": "stdout",
     "output_type": "stream",
     "text": [
      "Iter: 0, Loss: 0.8413\n",
      "Iter: 500, Loss: 0.6918\n",
      "Iter: 1000, Loss: 0.6901\n",
      "Iter: 1500, Loss: 0.6884\n",
      "Iter: 2000, Loss: 0.6865\n",
      "Iter: 2500, Loss: 0.6844\n",
      "Iter: 3000, Loss: 0.6821\n",
      "Iter: 3500, Loss: 0.6795\n",
      "Iter: 4000, Loss: 0.6765\n",
      "Iter: 4500, Loss: 0.6731\n",
      "Iter: 5000, Loss: 0.6690\n",
      "Iter: 5500, Loss: 0.6644\n",
      "Iter: 6000, Loss: 0.6593\n",
      "Iter: 6500, Loss: 0.6535\n",
      "Iter: 7000, Loss: 0.6469\n",
      "Iter: 7500, Loss: 0.6392\n",
      "Iter: 8000, Loss: 0.6303\n",
      "Iter: 8500, Loss: 0.6198\n",
      "Iter: 9000, Loss: 0.6072\n",
      "Iter: 9500, Loss: 0.5922\n",
      "Iter: 10000, Loss: 0.5741\n",
      "Iter: 10500, Loss: 0.5523\n",
      "Iter: 11000, Loss: 0.5262\n",
      "Iter: 11500, Loss: 0.4953\n",
      "Iter: 12000, Loss: 0.4592\n",
      "Iter: 12500, Loss: 0.4183\n",
      "Iter: 13000, Loss: 0.3733\n",
      "Iter: 13500, Loss: 0.3260\n",
      "Iter: 14000, Loss: 0.2787\n",
      "Iter: 14500, Loss: 0.2339\n",
      "Iter: 15000, Loss: 0.1936\n",
      "Iter: 15500, Loss: 0.1591\n",
      "Iter: 16000, Loss: 0.1306\n",
      "Iter: 16500, Loss: 0.1077\n",
      "Iter: 17000, Loss: 0.0895\n",
      "Iter: 17500, Loss: 0.0753\n",
      "Iter: 18000, Loss: 0.0640\n",
      "Iter: 18500, Loss: 0.0551\n",
      "Iter: 19000, Loss: 0.0479\n",
      "Iter: 19500, Loss: 0.0421\n"
     ]
    }
   ],
   "source": [
    "model.fit(dataset)"
   ]
  },
  {
   "cell_type": "code",
   "execution_count": 6,
   "metadata": {},
   "outputs": [
    {
     "name": "stdout",
     "output_type": "stream",
     "text": [
      "Testset Accuracy: 1.0000\n"
     ]
    }
   ],
   "source": [
    "model.test_model(x_data, y_data)"
   ]
  }
 ],
 "metadata": {
  "kernelspec": {
   "display_name": "Python 3",
   "language": "python",
   "name": "python3"
  },
  "language_info": {
   "codemirror_mode": {
    "name": "ipython",
    "version": 3
   },
   "file_extension": ".py",
   "mimetype": "text/x-python",
   "name": "python",
   "nbconvert_exporter": "python",
   "pygments_lexer": "ipython3",
   "version": "3.6.5"
  }
 },
 "nbformat": 4,
 "nbformat_minor": 2
}
