{
 "cells": [
  {
   "cell_type": "markdown",
   "metadata": {},
   "source": [
    "# Lab 07-6-IMDB-introduction\n",
    "* https://www.tensorflow.org/tutorials/keras/basic_text_classification\n",
    "### 기본 Library 선언 및 TensorFlow 버전 확인"
   ]
  },
  {
   "cell_type": "code",
   "execution_count": 1,
   "metadata": {},
   "outputs": [
    {
     "name": "stdout",
     "output_type": "stream",
     "text": [
      "2.1.0\n"
     ]
    }
   ],
   "source": [
    "import numpy as np\n",
    "import tensorflow as tf\n",
    "from tensorflow import keras\n",
    "\n",
    "tf.random.set_seed(777)  # for reproducibility\n",
    "print(tf.__version__)"
   ]
  },
  {
   "cell_type": "markdown",
   "metadata": {},
   "source": [
    "### 강의에 설명할 Data입니다\n",
    "* Tensorflow 2.0 버전에 맞게 Keras를 활용한 IMDB 분류 모델 생성\n",
    "\n",
    "## 학습에 쓰이는 Data\n",
    "* 50,000 movie reviews from the Internet Movie Database. (10000개의 빈도수가 높은 단어를 학습시 Vector에 사용)"
   ]
  },
  {
   "cell_type": "code",
   "execution_count": 2,
   "metadata": {
    "scrolled": true
   },
   "outputs": [
    {
     "name": "stdout",
     "output_type": "stream",
     "text": [
      "Training entries: 25000, labels: 25000\n",
      "[1, 14, 22, 16, 43, 530, 973, 1622, 1385, 65, 458, 4468, 66, 3941, 4, 173, 36, 256, 5, 25, 100, 43, 838, 112, 50, 670, 2, 9, 35, 480, 284, 5, 150, 4, 172, 112, 167, 2, 336, 385, 39, 4, 172, 4536, 1111, 17, 546, 38, 13, 447, 4, 192, 50, 16, 6, 147, 2025, 19, 14, 22, 4, 1920, 4613, 469, 4, 22, 71, 87, 12, 16, 43, 530, 38, 76, 15, 13, 1247, 4, 22, 17, 515, 17, 12, 16, 626, 18, 2, 5, 62, 386, 12, 8, 316, 8, 106, 5, 4, 2223, 5244, 16, 480, 66, 3785, 33, 4, 130, 12, 16, 38, 619, 5, 25, 124, 51, 36, 135, 48, 25, 1415, 33, 6, 22, 12, 215, 28, 77, 52, 5, 14, 407, 16, 82, 2, 8, 4, 107, 117, 5952, 15, 256, 4, 2, 7, 3766, 5, 723, 36, 71, 43, 530, 476, 26, 400, 317, 46, 7, 4, 2, 1029, 13, 104, 88, 4, 381, 15, 297, 98, 32, 2071, 56, 26, 141, 6, 194, 7486, 18, 4, 226, 22, 21, 134, 476, 26, 480, 5, 144, 30, 5535, 18, 51, 36, 28, 224, 92, 25, 104, 4, 226, 65, 16, 38, 1334, 88, 12, 16, 283, 5, 16, 4472, 113, 103, 32, 15, 16, 5345, 19, 178, 32]\n"
     ]
    }
   ],
   "source": [
    "imdb = keras.datasets.imdb\n",
    "(train_data, train_labels), (test_data, test_labels) = imdb.load_data(num_words=10000)\n",
    "print(\"Training entries: {}, labels: {}\".format(len(train_data), len(train_labels)))\n",
    "print(train_data[0])"
   ]
  },
  {
   "cell_type": "markdown",
   "metadata": {},
   "source": [
    "*  IMDB Data를 Vector을 실재 값으로 변환하여 출력"
   ]
  },
  {
   "cell_type": "code",
   "execution_count": 3,
   "metadata": {},
   "outputs": [
    {
     "data": {
      "text/plain": [
       "\"<START> worst mistake of my life br br i picked this movie up at target for 5 because i figured hey it's sandler i can get some cheap laughs i was wrong completely wrong mid way through the film all three of my friends were asleep and i was still suffering worst plot worst script worst movie i have ever seen i wanted to hit my head up against a wall for an hour then i'd stop and you know why because it felt damn good upon bashing my head in i stuck that damn movie in the <UNK> and watched it burn and that felt better than anything else i've ever done it took american psycho army of darkness and kill bill just to get over that crap i hate you sandler for actually going through with this and ruining a whole day of my life\""
      ]
     },
     "execution_count": 3,
     "metadata": {},
     "output_type": "execute_result"
    }
   ],
   "source": [
    "# A dictionary mapping words to an integer index\n",
    "word_index = imdb.get_word_index()\n",
    "\n",
    "# The first indices are reserved\n",
    "word_index = {k:(v+3) for k,v in word_index.items()}\n",
    "word_index[\"<PAD>\"] = 0\n",
    "word_index[\"<START>\"] = 1\n",
    "word_index[\"<UNK>\"] = 2  # unknown\n",
    "word_index[\"<UNUSED>\"] = 3\n",
    "\n",
    "reverse_word_index = dict([(value, key) for (key, value) in word_index.items()])\n",
    "\n",
    "def decode_review(text):\n",
    "    return ' '.join([reverse_word_index.get(i, '?') for i in text])\n",
    "\n",
    "decode_review(train_data[4])"
   ]
  },
  {
   "cell_type": "code",
   "execution_count": 4,
   "metadata": {},
   "outputs": [
    {
     "name": "stdout",
     "output_type": "stream",
     "text": [
      "0\n"
     ]
    }
   ],
   "source": [
    "print(train_labels[4])"
   ]
  },
  {
   "cell_type": "markdown",
   "metadata": {},
   "source": [
    "###  Tensorflow Keras\n",
    "#### 위 Data를 기준으로 분류 모델을 만들도록 하겠습니다\n",
    "* 학습과 평가를 위해 동일길이인 256길이의 단어로 PAD값을 주어 맞춰줌 (뒤의 길이는 0값으로 맞춰줌)"
   ]
  },
  {
   "cell_type": "code",
   "execution_count": 5,
   "metadata": {},
   "outputs": [
    {
     "name": "stdout",
     "output_type": "stream",
     "text": [
      "256 256\n",
      "[   1   14   22   16   43  530  973 1622 1385   65  458 4468   66 3941\n",
      "    4  173   36  256    5   25  100   43  838  112   50  670    2    9\n",
      "   35  480  284    5  150    4  172  112  167    2  336  385   39    4\n",
      "  172 4536 1111   17  546   38   13  447    4  192   50   16    6  147\n",
      " 2025   19   14   22    4 1920 4613  469    4   22   71   87   12   16\n",
      "   43  530   38   76   15   13 1247    4   22   17  515   17   12   16\n",
      "  626   18    2    5   62  386   12    8  316    8  106    5    4 2223\n",
      " 5244   16  480   66 3785   33    4  130   12   16   38  619    5   25\n",
      "  124   51   36  135   48   25 1415   33    6   22   12  215   28   77\n",
      "   52    5   14  407   16   82    2    8    4  107  117 5952   15  256\n",
      "    4    2    7 3766    5  723   36   71   43  530  476   26  400  317\n",
      "   46    7    4    2 1029   13  104   88    4  381   15  297   98   32\n",
      " 2071   56   26  141    6  194 7486   18    4  226   22   21  134  476\n",
      "   26  480    5  144   30 5535   18   51   36   28  224   92   25  104\n",
      "    4  226   65   16   38 1334   88   12   16  283    5   16 4472  113\n",
      "  103   32   15   16 5345   19  178   32    0    0    0    0    0    0\n",
      "    0    0    0    0    0    0    0    0    0    0    0    0    0    0\n",
      "    0    0    0    0    0    0    0    0    0    0    0    0    0    0\n",
      "    0    0    0    0]\n"
     ]
    }
   ],
   "source": [
    "train_data = keras.preprocessing.sequence.pad_sequences(train_data,\n",
    "                                                        value=word_index[\"<PAD>\"],\n",
    "                                                        padding='post',\n",
    "                                                        maxlen=256)\n",
    "\n",
    "test_data = keras.preprocessing.sequence.pad_sequences(test_data,\n",
    "                                                       value=word_index[\"<PAD>\"],\n",
    "                                                       padding='post',\n",
    "                                                       maxlen=256)\n",
    "\n",
    "print(len(train_data[0]), len(test_data[0]))\n",
    "print(train_data[0])"
   ]
  },
  {
   "cell_type": "markdown",
   "metadata": {},
   "source": [
    "* Tensorflow keras API를 통해 모델에 대한 정의\n",
    "* 입력 Size와 학습시킬 Layer의 크기와 Activation Function 정의"
   ]
  },
  {
   "cell_type": "code",
   "execution_count": 6,
   "metadata": {},
   "outputs": [
    {
     "name": "stdout",
     "output_type": "stream",
     "text": [
      "Model: \"sequential\"\n",
      "_________________________________________________________________\n",
      "Layer (type)                 Output Shape              Param #   \n",
      "=================================================================\n",
      "embedding (Embedding)        (None, None, 16)          160000    \n",
      "_________________________________________________________________\n",
      "global_average_pooling1d (Gl (None, 16)                0         \n",
      "_________________________________________________________________\n",
      "dense (Dense)                (None, 16)                272       \n",
      "_________________________________________________________________\n",
      "dense_1 (Dense)              (None, 1)                 17        \n",
      "=================================================================\n",
      "Total params: 160,289\n",
      "Trainable params: 160,289\n",
      "Non-trainable params: 0\n",
      "_________________________________________________________________\n"
     ]
    }
   ],
   "source": [
    "# input shape is the vocabulary count used for the movie reviews (10,000 words)\n",
    "vocab_size = 10000\n",
    "\n",
    "model = keras.Sequential()\n",
    "model.add(keras.layers.Embedding(vocab_size, 16))\n",
    "model.add(keras.layers.GlobalAveragePooling1D())\n",
    "model.add(keras.layers.Dense(16, activation=tf.nn.relu))\n",
    "model.add(keras.layers.Dense(1, activation=tf.nn.sigmoid))\n",
    "\n",
    "model.summary()"
   ]
  },
  {
   "cell_type": "markdown",
   "metadata": {},
   "source": [
    "* Adam Optimizer과 Cross Entropy Loss 선언"
   ]
  },
  {
   "cell_type": "code",
   "execution_count": 7,
   "metadata": {},
   "outputs": [],
   "source": [
    "model.compile(optimizer='adam',\n",
    "              loss='binary_crossentropy',\n",
    "              metrics=['accuracy'])"
   ]
  },
  {
   "cell_type": "markdown",
   "metadata": {},
   "source": [
    "* 모델을 평가할 Test 데이타에 대한 정의(10000을 기준으로 학습과 평가 수행)"
   ]
  },
  {
   "cell_type": "code",
   "execution_count": 8,
   "metadata": {},
   "outputs": [
    {
     "name": "stdout",
     "output_type": "stream",
     "text": [
      "Train on 15000 samples, validate on 10000 samples\n",
      "Epoch 1/40\n",
      "15000/15000 [==============================] - 1s 46us/sample - loss: 0.6923 - accuracy: 0.5473 - val_loss: 0.6905 - val_accuracy: 0.6027\n",
      "Epoch 2/40\n",
      "15000/15000 [==============================] - 0s 27us/sample - loss: 0.6874 - accuracy: 0.7171 - val_loss: 0.6835 - val_accuracy: 0.7463\n",
      "Epoch 3/40\n",
      "15000/15000 [==============================] - 0s 27us/sample - loss: 0.6764 - accuracy: 0.7532 - val_loss: 0.6697 - val_accuracy: 0.7359\n",
      "Epoch 4/40\n",
      "15000/15000 [==============================] - 0s 29us/sample - loss: 0.6572 - accuracy: 0.7591 - val_loss: 0.6475 - val_accuracy: 0.7700\n",
      "Epoch 5/40\n",
      "15000/15000 [==============================] - 0s 27us/sample - loss: 0.6275 - accuracy: 0.7919 - val_loss: 0.6157 - val_accuracy: 0.7841\n",
      "Epoch 6/40\n",
      "15000/15000 [==============================] - 0s 27us/sample - loss: 0.5887 - accuracy: 0.8061 - val_loss: 0.5767 - val_accuracy: 0.7949\n",
      "Epoch 7/40\n",
      "15000/15000 [==============================] - 0s 27us/sample - loss: 0.5437 - accuracy: 0.8229 - val_loss: 0.5352 - val_accuracy: 0.8131\n",
      "Epoch 8/40\n",
      "15000/15000 [==============================] - 0s 28us/sample - loss: 0.4972 - accuracy: 0.8400 - val_loss: 0.4938 - val_accuracy: 0.8295\n",
      "Epoch 9/40\n",
      "15000/15000 [==============================] - 0s 27us/sample - loss: 0.4524 - accuracy: 0.8555 - val_loss: 0.4567 - val_accuracy: 0.8376\n",
      "Epoch 10/40\n",
      "15000/15000 [==============================] - 0s 27us/sample - loss: 0.4133 - accuracy: 0.8661 - val_loss: 0.4239 - val_accuracy: 0.8465\n",
      "Epoch 11/40\n",
      "15000/15000 [==============================] - 0s 27us/sample - loss: 0.3790 - accuracy: 0.8762 - val_loss: 0.3969 - val_accuracy: 0.8545\n",
      "Epoch 12/40\n",
      "15000/15000 [==============================] - 0s 27us/sample - loss: 0.3501 - accuracy: 0.8839 - val_loss: 0.3751 - val_accuracy: 0.8619\n",
      "Epoch 13/40\n",
      "15000/15000 [==============================] - 0s 27us/sample - loss: 0.3256 - accuracy: 0.8912 - val_loss: 0.3578 - val_accuracy: 0.8670\n",
      "Epoch 14/40\n",
      "15000/15000 [==============================] - 0s 27us/sample - loss: 0.3049 - accuracy: 0.8961 - val_loss: 0.3440 - val_accuracy: 0.8697\n",
      "Epoch 15/40\n",
      "15000/15000 [==============================] - 0s 27us/sample - loss: 0.2868 - accuracy: 0.9021 - val_loss: 0.3325 - val_accuracy: 0.8723\n",
      "Epoch 16/40\n",
      "15000/15000 [==============================] - 0s 28us/sample - loss: 0.2710 - accuracy: 0.9053 - val_loss: 0.3229 - val_accuracy: 0.8752\n",
      "Epoch 17/40\n",
      "15000/15000 [==============================] - 0s 27us/sample - loss: 0.2569 - accuracy: 0.9123 - val_loss: 0.3160 - val_accuracy: 0.8765\n",
      "Epoch 18/40\n",
      "15000/15000 [==============================] - 0s 27us/sample - loss: 0.2446 - accuracy: 0.9160 - val_loss: 0.3084 - val_accuracy: 0.8789\n",
      "Epoch 19/40\n",
      "15000/15000 [==============================] - 0s 28us/sample - loss: 0.2325 - accuracy: 0.9197 - val_loss: 0.3035 - val_accuracy: 0.8788\n",
      "Epoch 20/40\n",
      "15000/15000 [==============================] - 0s 27us/sample - loss: 0.2218 - accuracy: 0.9240 - val_loss: 0.2989 - val_accuracy: 0.8810\n",
      "Epoch 21/40\n",
      "15000/15000 [==============================] - 0s 27us/sample - loss: 0.2126 - accuracy: 0.9273 - val_loss: 0.2947 - val_accuracy: 0.8829\n",
      "Epoch 22/40\n",
      "15000/15000 [==============================] - 0s 27us/sample - loss: 0.2028 - accuracy: 0.9296 - val_loss: 0.2918 - val_accuracy: 0.8838\n",
      "Epoch 23/40\n",
      "15000/15000 [==============================] - 0s 28us/sample - loss: 0.1942 - accuracy: 0.9343 - val_loss: 0.2895 - val_accuracy: 0.8834\n",
      "Epoch 24/40\n",
      "15000/15000 [==============================] - 0s 28us/sample - loss: 0.1864 - accuracy: 0.9384 - val_loss: 0.2892 - val_accuracy: 0.8830\n",
      "Epoch 25/40\n",
      "15000/15000 [==============================] - 0s 27us/sample - loss: 0.1794 - accuracy: 0.9417 - val_loss: 0.2862 - val_accuracy: 0.8847\n",
      "Epoch 26/40\n",
      "15000/15000 [==============================] - 0s 27us/sample - loss: 0.1716 - accuracy: 0.9451 - val_loss: 0.2862 - val_accuracy: 0.8842\n",
      "Epoch 27/40\n",
      "15000/15000 [==============================] - 0s 28us/sample - loss: 0.1653 - accuracy: 0.9471 - val_loss: 0.2850 - val_accuracy: 0.8854\n",
      "Epoch 28/40\n",
      "15000/15000 [==============================] - 0s 28us/sample - loss: 0.1588 - accuracy: 0.9507 - val_loss: 0.2847 - val_accuracy: 0.8856\n",
      "Epoch 29/40\n",
      "15000/15000 [==============================] - 0s 27us/sample - loss: 0.1529 - accuracy: 0.9523 - val_loss: 0.2853 - val_accuracy: 0.8860\n",
      "Epoch 30/40\n",
      "15000/15000 [==============================] - 0s 27us/sample - loss: 0.1474 - accuracy: 0.9555 - val_loss: 0.2852 - val_accuracy: 0.8864\n",
      "Epoch 31/40\n",
      "15000/15000 [==============================] - 0s 27us/sample - loss: 0.1420 - accuracy: 0.9575 - val_loss: 0.2863 - val_accuracy: 0.8868\n",
      "Epoch 32/40\n",
      "15000/15000 [==============================] - 0s 27us/sample - loss: 0.1365 - accuracy: 0.9587 - val_loss: 0.2871 - val_accuracy: 0.8862\n",
      "Epoch 33/40\n",
      "15000/15000 [==============================] - 0s 27us/sample - loss: 0.1313 - accuracy: 0.9616 - val_loss: 0.2883 - val_accuracy: 0.8869\n",
      "Epoch 34/40\n",
      "15000/15000 [==============================] - 0s 26us/sample - loss: 0.1268 - accuracy: 0.9639 - val_loss: 0.2897 - val_accuracy: 0.8861\n",
      "Epoch 35/40\n",
      "15000/15000 [==============================] - 0s 27us/sample - loss: 0.1222 - accuracy: 0.9655 - val_loss: 0.2912 - val_accuracy: 0.8855\n",
      "Epoch 36/40\n",
      "15000/15000 [==============================] - 0s 27us/sample - loss: 0.1177 - accuracy: 0.9661 - val_loss: 0.2932 - val_accuracy: 0.8867\n",
      "Epoch 37/40\n",
      "15000/15000 [==============================] - 0s 27us/sample - loss: 0.1138 - accuracy: 0.9674 - val_loss: 0.2956 - val_accuracy: 0.8855\n",
      "Epoch 38/40\n",
      "15000/15000 [==============================] - 0s 27us/sample - loss: 0.1095 - accuracy: 0.9693 - val_loss: 0.2974 - val_accuracy: 0.8836\n",
      "Epoch 39/40\n",
      "15000/15000 [==============================] - 0s 27us/sample - loss: 0.1057 - accuracy: 0.9712 - val_loss: 0.3000 - val_accuracy: 0.8846\n",
      "Epoch 40/40\n",
      "15000/15000 [==============================] - 0s 28us/sample - loss: 0.1017 - accuracy: 0.9724 - val_loss: 0.3029 - val_accuracy: 0.8830\n"
     ]
    }
   ],
   "source": [
    "x_val = train_data[:10000]\n",
    "partial_x_train = train_data[10000:]\n",
    "\n",
    "y_val = train_labels[:10000]\n",
    "partial_y_train = train_labels[10000:]\n",
    "\n",
    "history = model.fit(partial_x_train,\n",
    "                    partial_y_train,\n",
    "                    epochs=40,\n",
    "                    batch_size=512,\n",
    "                    validation_data=(x_val, y_val),\n",
    "                    verbose=1)"
   ]
  },
  {
   "cell_type": "code",
   "execution_count": 9,
   "metadata": {},
   "outputs": [
    {
     "name": "stdout",
     "output_type": "stream",
     "text": [
      "25000/25000 [==============================] - 0s 17us/sample - loss: 0.3223 - accuracy: 0.8726\n",
      "[0.32234514392375946, 0.8726]\n"
     ]
    }
   ],
   "source": [
    "results = model.evaluate(test_data, test_labels)\n",
    "print(results)"
   ]
  },
  {
   "cell_type": "code",
   "execution_count": null,
   "metadata": {},
   "outputs": [],
   "source": []
  }
 ],
 "metadata": {
  "kernelspec": {
   "display_name": "Python 3",
   "language": "python",
   "name": "python3"
  },
  "language_info": {
   "codemirror_mode": {
    "name": "ipython",
    "version": 3
   },
   "file_extension": ".py",
   "mimetype": "text/x-python",
   "name": "python",
   "nbconvert_exporter": "python",
   "pygments_lexer": "ipython3",
   "version": "3.7.6"
  }
 },
 "nbformat": 4,
 "nbformat_minor": 4
}
